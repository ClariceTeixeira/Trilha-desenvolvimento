{
  "nbformat": 4,
  "nbformat_minor": 0,
  "metadata": {
    "colab": {
      "provenance": [],
      "authorship_tag": "ABX9TyNQBPqihjsMR6Ft4ERnoi3G",
      "include_colab_link": true
    },
    "kernelspec": {
      "name": "python3",
      "display_name": "Python 3"
    },
    "language_info": {
      "name": "python"
    }
  },
  "cells": [
    {
      "cell_type": "markdown",
      "metadata": {
        "id": "view-in-github",
        "colab_type": "text"
      },
      "source": [
        "<a href=\"https://colab.research.google.com/github/ClariceTeixeira/trilha-desenvolvimento/blob/main/Sistema_Banc%C3%A1rio.ipynb\" target=\"_parent\"><img src=\"https://colab.research.google.com/assets/colab-badge.svg\" alt=\"Open In Colab\"/></a>"
      ]
    },
    {
      "cell_type": "code",
      "source": [
        "class SistemaBancario:\n",
        "    def _init_(self):\n",
        "        self.saldo = 0.0\n",
        "        self.depositos = []\n",
        "        self.saques = []\n",
        "\n",
        "    def depositar(self, valor):\n",
        "        if valor > 0:\n",
        "            self.saldo += valor\n",
        "            self.depositos.append(valor)\n",
        "            print(f\"Depósito de R$ {valor:.2f} realizado com sucesso.\")\n",
        "        else:\n",
        "            print(\"Valor de depósito inválido.\")\n",
        "\n",
        "    def sacar(self, valor):\n",
        "        if valor > 0 and valor <= 500:\n",
        "            if self.saldo >= valor:\n",
        "                self.saldo -= valor\n",
        "                self.saques.append(valor)\n",
        "                print(f\"Saque de R$ {valor:.2f} realizado com sucesso.\")\n",
        "            else:\n",
        "                print(\"Saldo insuficiente para realizar o saque.\")\n",
        "        else:\n",
        "            print(\"Valor de saque inválido.\")\n",
        "\n",
        "    def extrato(self):\n",
        "        print(\"Extrato:\")\n",
        "        if len(self.depositos) == 0 and len(self.saques) == 0:\n",
        "            print(\"Não foram realizadas movimentações.\")\n",
        "        else:\n",
        "            for deposito in self.depositos:\n",
        "                print(f\"Depósito: R$ {deposito:.2f}\")\n",
        "            for saque in self.saques:\n",
        "                print(f\"Saque: R$ {saque:.2f}\")\n",
        "        print(f\"Saldo atual: R$ {self.saldo:.2f}\")\n",
        "\n",
        "    def menu(self):\n",
        "        while True:\n",
        "            print(\"----- Menu -----\")\n",
        "            print(\"1. Depositar\")\n",
        "            print(\"2. Sacar\")\n",
        "            print(\"3. Extrato\")\n",
        "            print(\"4. Sair\")\n",
        "\n",
        "            opcao = input(\"Escolha uma opção (1-4): \")\n",
        "            if opcao == \"1\":\n",
        "                valor = float(input(\"Digite o valor para depósito: \"))\n",
        "                self.depositar(valor)\n",
        "            elif opcao == \"2\":\n",
        "                valor = float(input(\"Digite o valor para saque: \"))\n",
        "                self.sacar(valor)\n",
        "            elif opcao == \"3\":\n",
        "                self.extrato()\n",
        "            elif opcao == \"4\":\n",
        "                print(\"Saindo do sistema bancário...\")\n",
        "                break\n",
        "            else:\n",
        "                print(\"Opção inválida. Tente novamente.\")\n",
        "\n",
        "\n",
        "# Exemplo de uso:\n",
        "sistema = SistemaBancario()\n",
        "sistema.menu()"
      ],
      "metadata": {
        "id": "1WRDVMIM_Aeq"
      },
      "execution_count": null,
      "outputs": []
    }
  ]
}